{
 "cells": [
  {
   "cell_type": "code",
   "execution_count": 1,
   "metadata": {},
   "outputs": [],
   "source": [
    "from initial_plots import read_dataset\n",
    "import numpy as np\n",
    "from whole_pipeline import whole_pipeline_all,whole_pipeline_divided,whole_pipeline_divided_paralel"
   ]
  },
  {
   "cell_type": "code",
   "execution_count": 2,
   "metadata": {},
   "outputs": [],
   "source": [
    "df = read_dataset(gt=False)\n",
    "\n",
    "X = np.array(df)\n",
    "X = X.reshape((610,340, 103))\n",
    "\n",
    "df = read_dataset(gt=True)\n",
    "y = np.array(df)\n",
    "\n",
    "rows_factor=21\n",
    "cols_factor=21"
   ]
  },
  {
   "cell_type": "code",
   "execution_count": 3,
   "metadata": {},
   "outputs": [],
   "source": [
    "# old version- using whole X as data\n",
    "#whole_pipeline_all(X,y, rows_factor, cols_factor, is_normalize_each_band=True, method_label_patch='center')"
   ]
  },
  {
   "cell_type": "code",
   "execution_count": null,
   "metadata": {},
   "outputs": [],
   "source": [
    "# new version- dividing X to spectral bands\n",
    "#whole_pipeline_divided(X,y, rows_factor, cols_factor, is_normalize_each_band=True, method_label_patch='center')\n",
    "\n"
   ]
  },
  {
   "cell_type": "code",
   "execution_count": null,
   "metadata": {},
   "outputs": [],
   "source": [
    "# new version- dividing X to spectral bands, parallel\n",
    "whole_pipeline_divided_paralel(X,y, rows_factor, cols_factor, is_normalize_each_band=True, method_label_patch='center')\n",
    "\n"
   ]
  }
 ],
 "metadata": {
  "kernelspec": {
   "display_name": "Python 3",
   "language": "python",
   "name": "python3"
  },
  "language_info": {
   "codemirror_mode": {
    "name": "ipython",
    "version": 3
   },
   "file_extension": ".py",
   "mimetype": "text/x-python",
   "name": "python",
   "nbconvert_exporter": "python",
   "pygments_lexer": "ipython3",
   "version": "3.8.0"
  }
 },
 "nbformat": 4,
 "nbformat_minor": 2
}
